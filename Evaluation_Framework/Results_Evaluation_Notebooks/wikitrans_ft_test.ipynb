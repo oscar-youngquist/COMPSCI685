{
 "cells": [
  {
   "cell_type": "code",
   "execution_count": 1,
   "metadata": {},
   "outputs": [],
   "source": [
    "import numpy as np\n",
    "import pandas as pd\n",
    "import os\n",
    "import json\n",
    "\n",
    "cwd = os.getcwd()\n",
    "\n",
    "results_path = cwd[:-28] + \"Results/T5_wiki_ft_test/all_scores_range_0_137_trail_{}.npz\"\n",
    "results_path_sbert = cwd[:-28] + \"Results/T5_wiki_ft_test/all_sbert_scores_0_137_trail_{}.npz\"\n",
    "\n",
    "results_intent_path = cwd[:-28] + \"Results/T5_wiki_ft_test/all_scores_range_by_intent_0_137_trail_{}.txt\"\n",
    "\n",
    "intents = [\"What drives the economy in this state?\",\n",
    "           \"What are the available modes of transport in this state?\",\n",
    "           \"How is the government structured in this state?\",\n",
    "           \"What about this state's arts and culture attracts you the most?\",\n",
    "           \"The main reasons why you would like living in this state\"]\n",
    "\n",
    "sample_size = 2\n",
    "\n",
    "model = \"T5 Wiki-Transfer\""
   ]
  },
  {
   "cell_type": "code",
   "execution_count": 2,
   "metadata": {},
   "outputs": [
    {
     "name": "stdout",
     "output_type": "stream",
     "text": [
      "Rouge-1\n",
      "T5 Wiki-Transfer & 0.1275 $\\pm$ 0.035 & 0.5034 $\\pm$ 0.0834 & 0.196 $\\pm$ 0.0424 & 0.1225 $\\pm$ 0.0265 & 0.4612 $\\pm$ 0.0721 \\\\\n",
      "Rouge-2\n",
      "T5 Wiki-Transfer & 0.03 $\\pm$ 0.0171 & 0.1309 $\\pm$ 0.0848 & 0.0472 $\\pm$ 0.0271 & 0.0295 $\\pm$ 0.0169 & 0.4612 $\\pm$ 0.0721 \\\\\n",
      "Rouge-L\n",
      "T5 Wiki-Transfer & 0.0884 $\\pm$ 0.0227 & 0.3568 $\\pm$ 0.0709 & 0.1366 $\\pm$ 0.028 & 0.0854 $\\pm$ 0.0175 & 0.4612 $\\pm$ 0.0721 \\\\\n",
      "SBERT Cosime Sim. Score: \n",
      "T5 Wiki-Transfer & 0.4612 $\\pm$ 0.0721 \\\\\n",
      "\n",
      "\n",
      "\n",
      "\n"
     ]
    }
   ],
   "source": [
    "\n",
    "total_data = None\n",
    "total_data_sbert = []\n",
    "total_data_intent = {}\n",
    "total_data_sbert_intent = {}\n",
    "\n",
    "for intent in intents:\n",
    "    total_data_intent[intent] = []\n",
    "    total_data_sbert_intent[intent] = []\n",
    "\n",
    "# get all of the \"normal\" data\n",
    "for i in range(sample_size):\n",
    "    temp = np.load(results_path.format(i))\n",
    "    sbert_temp = np.load(results_path_sbert.format(i))\n",
    "    data = temp['scores']\n",
    "    data_sbert = sbert_temp['scores']\n",
    "    \n",
    "    if total_data is None:\n",
    "        # we need to take the mean of axis-one first because each \"user-sample\" contains a set of predicted summaries. So we first avg those sets, before average across all the data/trials\n",
    "        total_data = data.mean(axis=1)\n",
    "        total_data_sbert = data_sbert.mean(axis=1)\n",
    "    else:\n",
    "        total_data = np.concatenate((total_data, data.mean(axis=1)), axis=0)\n",
    "        total_data_sbert = np.concatenate((total_data_sbert, data_sbert.mean(axis=1)), axis=0)\n",
    "\n",
    "# get all of the \"by-intent\" data\n",
    "for i in range(sample_size):\n",
    "    res = None\n",
    "    with open(results_intent_path.format(i)) as f:\n",
    "        res = json.load(f)\n",
    "\n",
    "    for intent in intents:\n",
    "        total_data_intent[intent].extend(np.mean(res[intent], axis=1).tolist())\n",
    "\n",
    "# loop over intent arrays and all data arrays to extract sbert by intent \n",
    "for intent in intents:\n",
    "    for intent_mat in total_data_intent[intent]:\n",
    "        for i, mat in enumerate(total_data):\n",
    "            if (np.array_equal(mat, np.array(intent_mat))):\n",
    "                # print(total_data_sbert[i])\n",
    "                total_data_sbert_intent[intent].append(total_data_sbert[i])\n",
    "        \n",
    "\n",
    "# now calculate the relavent stats\n",
    "total_mean = np.mean(total_data, axis=0)\n",
    "total_stddev = np.std(total_data, axis=0)\n",
    "\n",
    "total_mean_sbert = np.mean(total_data_sbert, axis=0)\n",
    "total_stddev_sbert = np.std(total_data_sbert, axis=0)\n",
    "\n",
    "mean_intent = {}\n",
    "stddev_intent = {}\n",
    "mean_intent_sbert = {}\n",
    "stddev_intent_sbert = {}\n",
    "\n",
    "for intent in intents:\n",
    "    mean = np.mean(total_data_intent[intent], axis=0)\n",
    "    stddev = np.std(total_data_intent[intent], axis=0)\n",
    "    mean_intent[intent] = mean\n",
    "    stddev_intent[intent] = stddev\n",
    "\n",
    "    mean_sbert = np.mean(total_data_sbert_intent[intent], axis=0)\n",
    "    stddev_sbert = np.std(total_data_sbert_intent[intent], axis=0)\n",
    "    mean_intent_sbert[intent] = mean_sbert\n",
    "    stddev_intent_sbert[intent] = stddev_sbert\n",
    "\n",
    "metrics = [\"Rouge-1\", \"Rouge-2\", \"Rouge-L\"]\n",
    "\n",
    "for i, (row_m, row_s) in enumerate(zip(total_mean, total_stddev)):\n",
    "    row_str = model + \" & \"\n",
    "    for col_m, col_s in zip(row_m, row_s):\n",
    "        row_str += str(np.round(col_m, 4)) + \" $\\\\pm$ \" + str(np.round(col_s, 4)) + \" & \"\n",
    "    \n",
    "    row_str = row_str[:-3]\n",
    "    row_str += \" & \" + str(np.round(total_mean_sbert, 4)) + \" $\\\\pm$ \" + str(np.round(total_stddev_sbert, 4)) + \" \\\\\\\\\"\n",
    "    print(metrics[i])\n",
    "    print(row_str)\n",
    "print(\"SBERT Cosime Sim. Score: \")\n",
    "print(model + \" & \" + str(np.round(total_mean_sbert, 4)) + \" $\\\\pm$ \" + str(np.round(total_stddev_sbert, 4)) + \" \\\\\\\\\")\n",
    "\n",
    "print(\"\\n\\n\\n\")"
   ]
  },
  {
   "cell_type": "code",
   "execution_count": 3,
   "metadata": {},
   "outputs": [],
   "source": [
    "# metrics = [\"Rouge-1\", \"Rouge-2\", \"Rouge-L\"]\n",
    "\n",
    "# for intent in intents:\n",
    "#     print(\"\\nResults for intent {}\\n\".format(intent))\n",
    "#     for i, (row_m, row_s) in enumerate(zip(mean_intent[intent], stddev_intent[intent])):\n",
    "#         row_str = \"\\t\"+model + \" & \"\n",
    "#         for col_m, col_s in zip(row_m, row_s):\n",
    "#             row_str += str(np.round(col_m, 4)) + \" $\\\\pm$ \" + str(np.round(col_s, 4)) + \" & \"\n",
    "        \n",
    "#         row_str = row_str[:-3]\n",
    "#         row_str += \" \\\\\\\\\"\n",
    "#         print(\"\\t\"+metrics[i])\n",
    "#         print(row_str)"
   ]
  },
  {
   "cell_type": "code",
   "execution_count": 4,
   "metadata": {},
   "outputs": [
    {
     "name": "stdout",
     "output_type": "stream",
     "text": [
      "[0.0854, 0.0835, 0.0861, 0.0819, 0.0898]\n",
      "[0.0183, 0.0141, 0.0173, 0.0158, 0.0204]\n"
     ]
    }
   ],
   "source": [
    "intent_mean_list = []\n",
    "intent_std_list = []\n",
    "\n",
    "for intent in intents:\n",
    "    mean = round(mean_intent[intent][2][3], 4)\n",
    "    std = round(stddev_intent[intent][2][3], 4)\n",
    "    intent_mean_list.append(mean)\n",
    "    intent_std_list.append(std)\n",
    "\n",
    "print(intent_mean_list)\n",
    "print(intent_std_list)\n",
    "    "
   ]
  },
  {
   "cell_type": "code",
   "execution_count": 5,
   "metadata": {},
   "outputs": [
    {
     "name": "stdout",
     "output_type": "stream",
     "text": [
      "[0.4839, 0.4413, 0.4363, 0.4184, 0.5218]\n",
      "[0.0542, 0.0433, 0.0554, 0.0763, 0.0772]\n"
     ]
    }
   ],
   "source": [
    "intent_mean_list = []\n",
    "intent_std_list = []\n",
    "\n",
    "for intent in intents:\n",
    "    mean = round(mean_intent_sbert[intent], 4)\n",
    "    std = round(stddev_intent_sbert[intent], 4)\n",
    "    intent_mean_list.append(mean)\n",
    "    intent_std_list.append(std)\n",
    "\n",
    "print(intent_mean_list)\n",
    "print(intent_std_list)"
   ]
  },
  {
   "cell_type": "code",
   "execution_count": null,
   "metadata": {},
   "outputs": [],
   "source": []
  }
 ],
 "metadata": {
  "interpreter": {
   "hash": "91b614d5e07c9478fc767851e9d1741051f0e60f90c291ee7e20a635ee058070"
  },
  "kernelspec": {
   "display_name": "Python 3.6.13 64-bit ('685': conda)",
   "language": "python",
   "name": "python3"
  },
  "language_info": {
   "codemirror_mode": {
    "name": "ipython",
    "version": 3
   },
   "file_extension": ".py",
   "mimetype": "text/x-python",
   "name": "python",
   "nbconvert_exporter": "python",
   "pygments_lexer": "ipython3",
   "version": "3.6.15"
  },
  "orig_nbformat": 4
 },
 "nbformat": 4,
 "nbformat_minor": 2
}
