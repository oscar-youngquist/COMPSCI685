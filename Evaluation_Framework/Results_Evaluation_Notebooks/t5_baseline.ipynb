{
 "cells": [
  {
   "cell_type": "code",
   "execution_count": 1,
   "metadata": {},
   "outputs": [],
   "source": [
    "import numpy as np\n",
    "import pandas as pd\n",
    "import os\n",
    "import json\n",
    "\n",
    "num_trails = 10\n",
    "cwd = os.getcwd()\n",
    "\n",
    "results_path = cwd[:-28] + \"Results/T5/all_scores_range_0_138_trail_{}.npz\"\n",
    "\n",
    "results_intent_path = cwd[:-28] + \"Results/T5/all_scores_range_by_intent_0_138_trail_{}.txt\"\n",
    "\n",
    "intents = [\"What is the state's policy regarding education?\",\n",
    "           \"What are the major historical events in this state?\",\n",
    "           \"How is the weather of the state?\",\n",
    "           \"Which places seem interesting to you for visiting in this state?\",\n",
    "           \"What are some of the most interesting things about this state?\"]\n",
    "\n",
    "sample_size = 10\n",
    "\n",
    "model = \"T5 Baseline\"\n"
   ]
  },
  {
   "cell_type": "code",
   "execution_count": 2,
   "metadata": {},
   "outputs": [],
   "source": [
    "full_results = []\n",
    "total_data = None\n",
    "total_data_intent = {}\n",
    "\n",
    "for intent in intents:\n",
    "    total_data_intent[intent] = []\n",
    "\n",
    "# get all of the \"normal\" data\n",
    "for i in range(sample_size):\n",
    "    temp = np.load(results_path.format(i))\n",
    "    data = temp['scores']\n",
    "    \n",
    "    if total_data is None:\n",
    "        # we need to take the mean of axis-one first because each \"user-sample\" contains a set of predicted summaries. So we first avg those sets, before average across all the data/trials\n",
    "        total_data = data.mean(axis=1)\n",
    "    else:\n",
    "        total_data = np.concatenate((total_data, data.mean(axis=1)), axis=0)\n",
    "\n",
    "# get all of the \"by-intent\" data\n",
    "for i in range(sample_size):\n",
    "    res = None\n",
    "    with open(results_intent_path.format(i)) as f:\n",
    "        res = json.load(f)\n",
    "\n",
    "    for intent in intents:\n",
    "        total_data_intent[intent].extend(np.mean(res[intent], axis=1).tolist())\n",
    "\n",
    "# now calculate the relavent stats\n",
    "total_mean = np.mean(total_data, axis=0)\n",
    "total_stddev = np.std(total_data, axis=0)\n",
    "\n",
    "mean_intent = {}\n",
    "stddev_intent = {}\n",
    "\n",
    "for intent in intents:\n",
    "    mean = np.mean(total_data_intent[intent], axis=0)\n",
    "    stddev = np.std(total_data_intent[intent], axis=0)\n",
    "    mean_intent[intent] = mean\n",
    "    stddev_intent[intent] = stddev"
   ]
  },
  {
   "cell_type": "code",
   "execution_count": 3,
   "metadata": {},
   "outputs": [
    {
     "name": "stdout",
     "output_type": "stream",
     "text": [
      "Rouge-1\n",
      "T5 Baseline & 0.1272 $\\pm$ 0.0393 & 0.5206 $\\pm$ 0.1103 & 0.1965 $\\pm$ 0.049 & 0.1228 $\\pm$ 0.0306 \\\\\n",
      "Rouge-2\n",
      "T5 Baseline & 0.0331 $\\pm$ 0.0216 & 0.1517 $\\pm$ 0.1289 & 0.0522 $\\pm$ 0.0347 & 0.0326 $\\pm$ 0.0217 \\\\\n",
      "Rouge-L\n",
      "T5 Baseline & 0.0875 $\\pm$ 0.0257 & 0.3668 $\\pm$ 0.1004 & 0.1357 $\\pm$ 0.0329 & 0.0848 $\\pm$ 0.0206 \\\\\n"
     ]
    }
   ],
   "source": [
    "metrics = [\"Rouge-1\", \"Rouge-2\", \"Rouge-L\"]\n",
    "\n",
    "for i, (row_m, row_s) in enumerate(zip(total_mean, total_stddev)):\n",
    "    row_str = model + \" & \"\n",
    "    for col_m, col_s in zip(row_m, row_s):\n",
    "        row_str += str(np.round(col_m, 4)) + \" $\\\\pm$ \" + str(np.round(col_s, 4)) + \" & \"\n",
    "    \n",
    "    row_str = row_str[:-3]\n",
    "    row_str += \" \\\\\\\\\"\n",
    "    print(metrics[i])\n",
    "    print(row_str)"
   ]
  },
  {
   "cell_type": "code",
   "execution_count": 4,
   "metadata": {},
   "outputs": [
    {
     "name": "stdout",
     "output_type": "stream",
     "text": [
      "\n",
      "Results for intent What is the state's policy regarding education?\n",
      "\n",
      "\tRouge-1\n",
      "\tT5 Baseline & 0.1425 $\\pm$ 0.0322 & 0.449 $\\pm$ 0.0563 & 0.2104 $\\pm$ 0.0386 & 0.1315 $\\pm$ 0.0241 \\\\\n",
      "\tRouge-2\n",
      "\tT5 Baseline & 0.0264 $\\pm$ 0.0099 & 0.0859 $\\pm$ 0.0297 & 0.0393 $\\pm$ 0.014 & 0.0246 $\\pm$ 0.0087 \\\\\n",
      "\tRouge-L\n",
      "\tT5 Baseline & 0.0983 $\\pm$ 0.02 & 0.3141 $\\pm$ 0.0426 & 0.1456 $\\pm$ 0.0234 & 0.091 $\\pm$ 0.0146 \\\\\n",
      "\n",
      "Results for intent What are the major historical events in this state?\n",
      "\n",
      "\tRouge-1\n",
      "\tT5 Baseline & 0.1059 $\\pm$ 0.0367 & 0.533 $\\pm$ 0.0802 & 0.1701 $\\pm$ 0.0461 & 0.1063 $\\pm$ 0.0288 \\\\\n",
      "\tRouge-2\n",
      "\tT5 Baseline & 0.0268 $\\pm$ 0.0126 & 0.1412 $\\pm$ 0.0554 & 0.0435 $\\pm$ 0.0181 & 0.0272 $\\pm$ 0.0113 \\\\\n",
      "\tRouge-L\n",
      "\tT5 Baseline & 0.0738 $\\pm$ 0.0241 & 0.378 $\\pm$ 0.0638 & 0.1187 $\\pm$ 0.0296 & 0.0742 $\\pm$ 0.0185 \\\\\n",
      "\n",
      "Results for intent How is the weather of the state?\n",
      "\n",
      "\tRouge-1\n",
      "\tT5 Baseline & 0.1244 $\\pm$ 0.0307 & 0.5071 $\\pm$ 0.0756 & 0.1933 $\\pm$ 0.039 & 0.1208 $\\pm$ 0.0244 \\\\\n",
      "\tRouge-2\n",
      "\tT5 Baseline & 0.0275 $\\pm$ 0.0084 & 0.1192 $\\pm$ 0.0338 & 0.0433 $\\pm$ 0.0122 & 0.0271 $\\pm$ 0.0076 \\\\\n",
      "\tRouge-L\n",
      "\tT5 Baseline & 0.0827 $\\pm$ 0.0186 & 0.3462 $\\pm$ 0.0524 & 0.1292 $\\pm$ 0.0231 & 0.0808 $\\pm$ 0.0145 \\\\\n",
      "\n",
      "Results for intent Which places seem interesting to you for visiting in this state?\n",
      "\n",
      "\tRouge-1\n",
      "\tT5 Baseline & 0.1363 $\\pm$ 0.0382 & 0.4984 $\\pm$ 0.0753 & 0.207 $\\pm$ 0.0481 & 0.1294 $\\pm$ 0.0301 \\\\\n",
      "\tRouge-2\n",
      "\tT5 Baseline & 0.034 $\\pm$ 0.0168 & 0.1322 $\\pm$ 0.0652 & 0.0524 $\\pm$ 0.0252 & 0.0327 $\\pm$ 0.0157 \\\\\n",
      "\tRouge-L\n",
      "\tT5 Baseline & 0.0903 $\\pm$ 0.0242 & 0.3361 $\\pm$ 0.062 & 0.1375 $\\pm$ 0.0306 & 0.086 $\\pm$ 0.0191 \\\\\n",
      "\n",
      "Results for intent What are some of the most interesting things about this state?\n",
      "\n",
      "\tRouge-1\n",
      "\tT5 Baseline & 0.1276 $\\pm$ 0.0478 & 0.624 $\\pm$ 0.1575 & 0.203 $\\pm$ 0.0607 & 0.1269 $\\pm$ 0.0379 \\\\\n",
      "\tRouge-2\n",
      "\tT5 Baseline & 0.0528 $\\pm$ 0.0363 & 0.2928 $\\pm$ 0.2282 & 0.0861 $\\pm$ 0.0593 & 0.0538 $\\pm$ 0.0371 \\\\\n",
      "\tRouge-L\n",
      "\tT5 Baseline & 0.0928 $\\pm$ 0.033 & 0.4671 $\\pm$ 0.1599 & 0.1484 $\\pm$ 0.0453 & 0.0928 $\\pm$ 0.0283 \\\\\n"
     ]
    }
   ],
   "source": [
    "metrics = [\"Rouge-1\", \"Rouge-2\", \"Rouge-L\"]\n",
    "\n",
    "for intent in intents:\n",
    "    print(\"\\nResults for intent {}\\n\".format(intent))\n",
    "    for i, (row_m, row_s) in enumerate(zip(mean_intent[intent], stddev_intent[intent])):\n",
    "        row_str = \"\\t\"+model + \" & \"\n",
    "        for col_m, col_s in zip(row_m, row_s):\n",
    "            row_str += str(np.round(col_m, 4)) + \" $\\\\pm$ \" + str(np.round(col_s, 4)) + \" & \"\n",
    "        \n",
    "        row_str = row_str[:-3]\n",
    "        row_str += \" \\\\\\\\\"\n",
    "        print(\"\\t\"+metrics[i])\n",
    "        print(row_str)"
   ]
  },
  {
   "cell_type": "code",
   "execution_count": null,
   "metadata": {},
   "outputs": [],
   "source": []
  }
 ],
 "metadata": {
  "interpreter": {
   "hash": "5a7f8acb928c956e869f5c4966a1b715f74aa48f98061f192133acf08ab164d2"
  },
  "kernelspec": {
   "display_name": "Python 3.6.12 64-bit ('sudocu': conda)",
   "name": "python3"
  },
  "language_info": {
   "codemirror_mode": {
    "name": "ipython",
    "version": 3
   },
   "file_extension": ".py",
   "mimetype": "text/x-python",
   "name": "python",
   "nbconvert_exporter": "python",
   "pygments_lexer": "ipython3",
   "version": "3.9.7"
  },
  "orig_nbformat": 4
 },
 "nbformat": 4,
 "nbformat_minor": 2
}