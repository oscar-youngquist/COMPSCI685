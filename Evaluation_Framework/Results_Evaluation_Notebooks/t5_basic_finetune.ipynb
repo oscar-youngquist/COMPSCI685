{
 "cells": [
  {
   "cell_type": "code",
   "execution_count": 1,
   "metadata": {},
   "outputs": [],
   "source": [
    "import numpy as np\n",
    "import pandas as pd\n",
    "import os\n",
    "import json\n",
    "\n",
    "num_trails = 10\n",
    "cwd = os.getcwd()\n",
    "\n",
    "results_path = cwd[:-28] + \"Results/T5_finetuned/all_scores_range_0_138_trail_{}.npz\"\n",
    "\n",
    "results_intent_path = cwd[:-28] + \"Results/T5_finetuned/all_scores_range_by_intent_0_138_trail_{}.txt\"\n",
    "\n",
    "intents = [\"What is the state's policy regarding education?\",\n",
    "           \"What are the major historical events in this state?\",\n",
    "           \"How is the weather of the state?\",\n",
    "           \"Which places seem interesting to you for visiting in this state?\",\n",
    "           \"What are some of the most interesting things about this state?\"]\n",
    "\n",
    "sample_size = 10\n",
    "\n",
    "model = \"T5 Finetune\"\n"
   ]
  },
  {
   "cell_type": "code",
   "execution_count": 2,
   "metadata": {},
   "outputs": [],
   "source": [
    "full_results = []\n",
    "total_data = None\n",
    "total_data_intent = {}\n",
    "\n",
    "for intent in intents:\n",
    "    total_data_intent[intent] = []\n",
    "\n",
    "# get all of the \"normal\" data\n",
    "for i in range(sample_size):\n",
    "    temp = np.load(results_path.format(i))\n",
    "    data = temp['scores']\n",
    "    \n",
    "    if total_data is None:\n",
    "        # we need to take the mean of axis-one first because each \"user-sample\" contains a set of predicted summaries. So we first avg those sets, before average across all the data/trials\n",
    "        total_data = data.mean(axis=1)\n",
    "    else:\n",
    "        total_data = np.concatenate((total_data, data.mean(axis=1)), axis=0)\n",
    "\n",
    "# get all of the \"by-intent\" data\n",
    "for i in range(sample_size):\n",
    "    res = None\n",
    "    with open(results_intent_path.format(i)) as f:\n",
    "        res = json.load(f)\n",
    "\n",
    "    for intent in intents:\n",
    "        total_data_intent[intent].extend(np.mean(res[intent], axis=1).tolist())\n",
    "\n",
    "# now calculate the relavent stats\n",
    "total_mean = np.mean(total_data, axis=0)\n",
    "total_stddev = np.std(total_data, axis=0)\n",
    "\n",
    "mean_intent = {}\n",
    "stddev_intent = {}\n",
    "\n",
    "for intent in intents:\n",
    "    mean = np.mean(total_data_intent[intent], axis=0)\n",
    "    stddev = np.std(total_data_intent[intent], axis=0)\n",
    "    mean_intent[intent] = mean\n",
    "    stddev_intent[intent] = stddev"
   ]
  },
  {
   "cell_type": "code",
   "execution_count": 3,
   "metadata": {},
   "outputs": [
    {
     "name": "stdout",
     "output_type": "stream",
     "text": [
      "Rouge-1\n",
      "T5 Finetune & 0.1257 $\\pm$ 0.0365 & 0.5222 $\\pm$ 0.1124 & 0.1949 $\\pm$ 0.0452 & 0.1218 $\\pm$ 0.0282 \\\\\n",
      "Rouge-2\n",
      "T5 Finetune & 0.0334 $\\pm$ 0.0227 & 0.1543 $\\pm$ 0.1306 & 0.0529 $\\pm$ 0.0367 & 0.033 $\\pm$ 0.023 \\\\\n",
      "Rouge-L\n",
      "T5 Finetune & 0.0871 $\\pm$ 0.0253 & 0.3698 $\\pm$ 0.1062 & 0.1356 $\\pm$ 0.0334 & 0.0847 $\\pm$ 0.0209 \\\\\n"
     ]
    }
   ],
   "source": [
    "metrics = [\"Rouge-1\", \"Rouge-2\", \"Rouge-L\"]\n",
    "\n",
    "for i, (row_m, row_s) in enumerate(zip(total_mean, total_stddev)):\n",
    "    row_str = model + \" & \"\n",
    "    for col_m, col_s in zip(row_m, row_s):\n",
    "        row_str += str(np.round(col_m, 4)) + \" $\\\\pm$ \" + str(np.round(col_s, 4)) + \" & \"\n",
    "    \n",
    "    row_str = row_str[:-3]\n",
    "    row_str += \" \\\\\\\\\"\n",
    "    print(metrics[i])\n",
    "    print(row_str)"
   ]
  },
  {
   "cell_type": "code",
   "execution_count": 4,
   "metadata": {},
   "outputs": [
    {
     "name": "stdout",
     "output_type": "stream",
     "text": [
      "\n",
      "Results for intent What is the state's policy regarding education?\n",
      "\n",
      "\tRouge-1\n",
      "\tT5 Finetune & 0.1408 $\\pm$ 0.0309 & 0.4482 $\\pm$ 0.0602 & 0.2081 $\\pm$ 0.0349 & 0.13 $\\pm$ 0.0218 \\\\\n",
      "\tRouge-2\n",
      "\tT5 Finetune & 0.0267 $\\pm$ 0.0098 & 0.0897 $\\pm$ 0.0344 & 0.0399 $\\pm$ 0.0139 & 0.025 $\\pm$ 0.0087 \\\\\n",
      "\tRouge-L\n",
      "\tT5 Finetune & 0.097 $\\pm$ 0.02 & 0.3134 $\\pm$ 0.0448 & 0.1437 $\\pm$ 0.0222 & 0.0898 $\\pm$ 0.0139 \\\\\n",
      "\n",
      "Results for intent What are the major historical events in this state?\n",
      "\n",
      "\tRouge-1\n",
      "\tT5 Finetune & 0.1041 $\\pm$ 0.0328 & 0.5264 $\\pm$ 0.0807 & 0.1675 $\\pm$ 0.0407 & 0.1047 $\\pm$ 0.0255 \\\\\n",
      "\tRouge-2\n",
      "\tT5 Finetune & 0.0252 $\\pm$ 0.0133 & 0.1328 $\\pm$ 0.0548 & 0.0408 $\\pm$ 0.0188 & 0.0255 $\\pm$ 0.0117 \\\\\n",
      "\tRouge-L\n",
      "\tT5 Finetune & 0.0721 $\\pm$ 0.0213 & 0.3703 $\\pm$ 0.06 & 0.1163 $\\pm$ 0.026 & 0.0727 $\\pm$ 0.0163 \\\\\n",
      "\n",
      "Results for intent How is the weather of the state?\n",
      "\n",
      "\tRouge-1\n",
      "\tT5 Finetune & 0.1254 $\\pm$ 0.0289 & 0.5104 $\\pm$ 0.0733 & 0.1937 $\\pm$ 0.0334 & 0.1211 $\\pm$ 0.0209 \\\\\n",
      "\tRouge-2\n",
      "\tT5 Finetune & 0.0286 $\\pm$ 0.0082 & 0.1232 $\\pm$ 0.0324 & 0.0448 $\\pm$ 0.0115 & 0.028 $\\pm$ 0.0072 \\\\\n",
      "\tRouge-L\n",
      "\tT5 Finetune & 0.0853 $\\pm$ 0.0186 & 0.3541 $\\pm$ 0.0519 & 0.1323 $\\pm$ 0.0214 & 0.0827 $\\pm$ 0.0134 \\\\\n",
      "\n",
      "Results for intent Which places seem interesting to you for visiting in this state?\n",
      "\n",
      "\tRouge-1\n",
      "\tT5 Finetune & 0.1319 $\\pm$ 0.0342 & 0.5082 $\\pm$ 0.0815 & 0.2031 $\\pm$ 0.0439 & 0.1269 $\\pm$ 0.0274 \\\\\n",
      "\tRouge-2\n",
      "\tT5 Finetune & 0.0348 $\\pm$ 0.0187 & 0.1433 $\\pm$ 0.0801 & 0.0543 $\\pm$ 0.0291 & 0.034 $\\pm$ 0.0182 \\\\\n",
      "\tRouge-L\n",
      "\tT5 Finetune & 0.0882 $\\pm$ 0.0235 & 0.3459 $\\pm$ 0.0753 & 0.1363 $\\pm$ 0.0316 & 0.0852 $\\pm$ 0.0198 \\\\\n",
      "\n",
      "Results for intent What are some of the most interesting things about this state?\n",
      "\n",
      "\tRouge-1\n",
      "\tT5 Finetune & 0.1265 $\\pm$ 0.0443 & 0.6271 $\\pm$ 0.161 & 0.203 $\\pm$ 0.0585 & 0.1269 $\\pm$ 0.0365 \\\\\n",
      "\tRouge-2\n",
      "\tT5 Finetune & 0.0538 $\\pm$ 0.0383 & 0.296 $\\pm$ 0.2282 & 0.0882 $\\pm$ 0.0627 & 0.0551 $\\pm$ 0.0392 \\\\\n",
      "\tRouge-L\n",
      "\tT5 Finetune & 0.0931 $\\pm$ 0.0337 & 0.4731 $\\pm$ 0.1735 & 0.1504 $\\pm$ 0.0495 & 0.094 $\\pm$ 0.0309 \\\\\n"
     ]
    }
   ],
   "source": [
    "metrics = [\"Rouge-1\", \"Rouge-2\", \"Rouge-L\"]\n",
    "\n",
    "for intent in intents:\n",
    "    print(\"\\nResults for intent {}\\n\".format(intent))\n",
    "    for i, (row_m, row_s) in enumerate(zip(mean_intent[intent], stddev_intent[intent])):\n",
    "        row_str = \"\\t\"+model + \" & \"\n",
    "        for col_m, col_s in zip(row_m, row_s):\n",
    "            row_str += str(np.round(col_m, 4)) + \" $\\\\pm$ \" + str(np.round(col_s, 4)) + \" & \"\n",
    "        \n",
    "        row_str = row_str[:-3]\n",
    "        row_str += \" \\\\\\\\\"\n",
    "        print(\"\\t\"+metrics[i])\n",
    "        print(row_str)"
   ]
  },
  {
   "cell_type": "code",
   "execution_count": null,
   "metadata": {},
   "outputs": [],
   "source": []
  }
 ],
 "metadata": {
  "interpreter": {
   "hash": "1b5f5a7bfe324c24718e5cce1d9ba3a05d53f60f42c53e2de950b018606d0d29"
  },
  "kernelspec": {
   "display_name": "Python 3.9.7 64-bit ('685': conda)",
   "name": "python3"
  },
  "language_info": {
   "codemirror_mode": {
    "name": "ipython",
    "version": 3
   },
   "file_extension": ".py",
   "mimetype": "text/x-python",
   "name": "python",
   "nbconvert_exporter": "python",
   "pygments_lexer": "ipython3",
   "version": "3.9.7"
  },
  "orig_nbformat": 4
 },
 "nbformat": 4,
 "nbformat_minor": 2
}