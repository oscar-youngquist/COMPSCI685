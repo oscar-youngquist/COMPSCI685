{
 "cells": [
  {
   "cell_type": "code",
   "execution_count": 25,
   "metadata": {},
   "outputs": [],
   "source": [
    "import numpy as np\n",
    "import pandas as pd\n",
    "import os\n",
    "import json\n",
    "\n",
    "num_trails = 10\n",
    "cwd = os.getcwd()\n",
    "\n",
    "results_path = cwd[:-28] + \"Results/Pegasus/all_scores_range_0_138_trail_{}.npz\"\n",
    "\n",
    "results_intent_path = cwd[:-28] + \"Results/Pegasus/all_scores_range_by_intent_0_138_trail_{}.txt\"\n",
    "\n",
    "intents = [\"What is the state's policy regarding education?\",\n",
    "           \"What are the major historical events in this state?\",\n",
    "           \"How is the weather of the state?\",\n",
    "           \"Which places seem interesting to you for visiting in this state?\",\n",
    "           \"What are some of the most interesting things about this state?\"]\n",
    "\n",
    "sample_size = 10\n",
    "\n",
    "model = \"Pegasus Baseline\"\n"
   ]
  },
  {
   "cell_type": "code",
   "execution_count": 26,
   "metadata": {},
   "outputs": [],
   "source": [
    "full_results = []\n",
    "total_data = None\n",
    "total_data_intent = {}\n",
    "\n",
    "for intent in intents:\n",
    "    total_data_intent[intent] = []\n",
    "\n",
    "# get all of the \"normal\" data\n",
    "for i in range(sample_size):\n",
    "    temp = np.load(results_path.format(i))\n",
    "    data = temp['scores']\n",
    "    \n",
    "    if total_data is None:\n",
    "        # we need to take the mean of axis-one first because each \"user-sample\" contains a set of predicted summaries. So we first avg those sets, before average across all the data/trials\n",
    "        total_data = data.mean(axis=1)\n",
    "    else:\n",
    "        total_data = np.concatenate((total_data, data.mean(axis=1)), axis=0)\n",
    "\n",
    "# get all of the \"by-intent\" data\n",
    "for i in range(sample_size):\n",
    "    res = None\n",
    "    with open(results_intent_path.format(i)) as f:\n",
    "        res = json.load(f)\n",
    "\n",
    "    for intent in intents:\n",
    "        total_data_intent[intent].extend(np.mean(res[intent], axis=1).tolist())\n",
    "\n",
    "# now calculate the relavent stats\n",
    "total_mean = np.mean(total_data, axis=0)\n",
    "total_stddev = np.std(total_data, axis=0)\n",
    "\n",
    "mean_intent = {}\n",
    "stddev_intent = {}\n",
    "\n",
    "for intent in intents:\n",
    "    mean = np.mean(total_data_intent[intent], axis=0)\n",
    "    stddev = np.std(total_data_intent[intent], axis=0)\n",
    "    mean_intent[intent] = mean\n",
    "    stddev_intent[intent] = stddev"
   ]
  },
  {
   "cell_type": "markdown",
   "metadata": {},
   "source": [
    "Print off the total (avg across all intents) results\n",
    "\n",
    "Note, the four results printed for each Rouge score are (in order) precision, recall, f1, f2"
   ]
  },
  {
   "cell_type": "code",
   "execution_count": 32,
   "metadata": {},
   "outputs": [
    {
     "name": "stdout",
     "output_type": "stream",
     "text": [
      "Rouge-1\n",
      "Pegasus Baseline & 0.1398 $\\pm$ 0.0436 & 0.6225 $\\pm$ 0.1186 & 0.2205 $\\pm$ 0.0574 & 0.1378 $\\pm$ 0.0359 \\\\\n",
      "Rouge-2\n",
      "Pegasus Baseline & 0.0713 $\\pm$ 0.0416 & 0.3383 $\\pm$ 0.1702 & 0.1139 $\\pm$ 0.0626 & 0.0712 $\\pm$ 0.0391 \\\\\n",
      "Rouge-L\n",
      "Pegasus Baseline & 0.1058 $\\pm$ 0.0388 & 0.4812 $\\pm$ 0.1361 & 0.1677 $\\pm$ 0.0547 & 0.1048 $\\pm$ 0.0342 \\\\\n"
     ]
    }
   ],
   "source": [
    "metrics = [\"Rouge-1\", \"Rouge-2\", \"Rouge-L\"]\n",
    "\n",
    "for i, (row_m, row_s) in enumerate(zip(total_mean, total_stddev)):\n",
    "    row_str = model + \" & \"\n",
    "    for col_m, col_s in zip(row_m, row_s):\n",
    "        row_str += str(np.round(col_m, 4)) + \" $\\\\pm$ \" + str(np.round(col_s, 4)) + \" & \"\n",
    "    \n",
    "    row_str = row_str[:-3]\n",
    "    row_str += \" \\\\\\\\\"\n",
    "    print(metrics[i])\n",
    "    print(row_str)"
   ]
  },
  {
   "cell_type": "code",
   "execution_count": 33,
   "metadata": {},
   "outputs": [
    {
     "name": "stdout",
     "output_type": "stream",
     "text": [
      "\n",
      "Results for intent What is the state's policy regarding education?\n",
      "\n",
      "\tRouge-1\n",
      "\tPegasus Baseline & 0.159 $\\pm$ 0.0392 & 0.5848 $\\pm$ 0.1176 & 0.2437 $\\pm$ 0.0528 & 0.1523 $\\pm$ 0.033 \\\\\n",
      "\tRouge-2\n",
      "\tPegasus Baseline & 0.0818 $\\pm$ 0.0412 & 0.3201 $\\pm$ 0.1582 & 0.127 $\\pm$ 0.062 & 0.0794 $\\pm$ 0.0388 \\\\\n",
      "\tRouge-L\n",
      "\tPegasus Baseline & 0.1218 $\\pm$ 0.0364 & 0.4579 $\\pm$ 0.1282 & 0.1875 $\\pm$ 0.0523 & 0.1172 $\\pm$ 0.0327 \\\\\n",
      "\n",
      "Results for intent What are the major historical events in this state?\n",
      "\n",
      "\tRouge-1\n",
      "\tPegasus Baseline & 0.12 $\\pm$ 0.0407 & 0.6673 $\\pm$ 0.09 & 0.1972 $\\pm$ 0.0545 & 0.1232 $\\pm$ 0.034 \\\\\n",
      "\tRouge-2\n",
      "\tPegasus Baseline & 0.0609 $\\pm$ 0.0339 & 0.3568 $\\pm$ 0.15 & 0.1011 $\\pm$ 0.0523 & 0.0632 $\\pm$ 0.0327 \\\\\n",
      "\tRouge-L\n",
      "\tPegasus Baseline & 0.0913 $\\pm$ 0.0346 & 0.5162 $\\pm$ 0.1123 & 0.1505 $\\pm$ 0.049 & 0.0941 $\\pm$ 0.0306 \\\\\n",
      "\n",
      "Results for intent How is the weather of the state?\n",
      "\n",
      "\tRouge-1\n",
      "\tPegasus Baseline & 0.1542 $\\pm$ 0.047 & 0.6867 $\\pm$ 0.1152 & 0.2437 $\\pm$ 0.0633 & 0.1523 $\\pm$ 0.0396 \\\\\n",
      "\tRouge-2\n",
      "\tPegasus Baseline & 0.0987 $\\pm$ 0.0497 & 0.4592 $\\pm$ 0.1723 & 0.157 $\\pm$ 0.0727 & 0.0981 $\\pm$ 0.0454 \\\\\n",
      "\tRouge-L\n",
      "\tPegasus Baseline & 0.1244 $\\pm$ 0.046 & 0.5624 $\\pm$ 0.1425 & 0.1971 $\\pm$ 0.0651 & 0.1232 $\\pm$ 0.0407 \\\\\n",
      "\n",
      "Results for intent Which places seem interesting to you for visiting in this state?\n",
      "\n",
      "\tRouge-1\n",
      "\tPegasus Baseline & 0.1385 $\\pm$ 0.0343 & 0.5368 $\\pm$ 0.088 & 0.2134 $\\pm$ 0.0422 & 0.1333 $\\pm$ 0.0264 \\\\\n",
      "\tRouge-2\n",
      "\tPegasus Baseline & 0.0541 $\\pm$ 0.0294 & 0.225 $\\pm$ 0.1137 & 0.0844 $\\pm$ 0.0435 & 0.0528 $\\pm$ 0.0272 \\\\\n",
      "\tRouge-L\n",
      "\tPegasus Baseline & 0.0956 $\\pm$ 0.0263 & 0.3796 $\\pm$ 0.0901 & 0.148 $\\pm$ 0.0351 & 0.0925 $\\pm$ 0.0219 \\\\\n",
      "\n",
      "Results for intent What are some of the most interesting things about this state?\n",
      "\n",
      "\tRouge-1\n",
      "\tPegasus Baseline & 0.1241 $\\pm$ 0.0401 & 0.6247 $\\pm$ 0.1104 & 0.1999 $\\pm$ 0.0505 & 0.1249 $\\pm$ 0.0315 \\\\\n",
      "\tRouge-2\n",
      "\tPegasus Baseline & 0.0559 $\\pm$ 0.0269 & 0.308 $\\pm$ 0.155 & 0.0918 $\\pm$ 0.0424 & 0.0574 $\\pm$ 0.0265 \\\\\n",
      "\tRouge-L\n",
      "\tPegasus Baseline & 0.0919 $\\pm$ 0.03 & 0.4735 $\\pm$ 0.1249 & 0.1489 $\\pm$ 0.041 & 0.093 $\\pm$ 0.0256 \\\\\n"
     ]
    }
   ],
   "source": [
    "metrics = [\"Rouge-1\", \"Rouge-2\", \"Rouge-L\"]\n",
    "\n",
    "for intent in intents:\n",
    "    print(\"\\nResults for intent {}\\n\".format(intent))\n",
    "    for i, (row_m, row_s) in enumerate(zip(mean_intent[intent], stddev_intent[intent])):\n",
    "        row_str = \"\\t\"+model + \" & \"\n",
    "        for col_m, col_s in zip(row_m, row_s):\n",
    "            row_str += str(np.round(col_m, 4)) + \" $\\\\pm$ \" + str(np.round(col_s, 4)) + \" & \"\n",
    "        \n",
    "        row_str = row_str[:-3]\n",
    "        row_str += \" \\\\\\\\\"\n",
    "        print(\"\\t\"+metrics[i])\n",
    "        print(row_str)"
   ]
  },
  {
   "cell_type": "code",
   "execution_count": null,
   "metadata": {},
   "outputs": [],
   "source": []
  }
 ],
 "metadata": {
  "interpreter": {
   "hash": "5a7f8acb928c956e869f5c4966a1b715f74aa48f98061f192133acf08ab164d2"
  },
  "kernelspec": {
   "display_name": "Python 3.6.12 64-bit ('sudocu': conda)",
   "name": "python3"
  },
  "language_info": {
   "codemirror_mode": {
    "name": "ipython",
    "version": 3
   },
   "file_extension": ".py",
   "mimetype": "text/x-python",
   "name": "python",
   "nbconvert_exporter": "python",
   "pygments_lexer": "ipython3",
   "version": "3.6.12"
  },
  "orig_nbformat": 4
 },
 "nbformat": 4,
 "nbformat_minor": 2
}