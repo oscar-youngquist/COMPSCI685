{
 "cells": [
  {
   "cell_type": "code",
   "execution_count": 1,
   "metadata": {},
   "outputs": [],
   "source": [
    "import numpy as np\n",
    "import pandas as pd\n",
    "import json\n",
    "from sentence_transformers import SentenceTransformer, util\n",
    "from nltk import sent_tokenize\n",
    "import random\n"
   ]
  },
  {
   "cell_type": "code",
   "execution_count": 2,
   "metadata": {},
   "outputs": [],
   "source": [
    "model = SentenceTransformer('all-MiniLM-L6-v2')\n",
    "\n",
    "\n",
    "base_path = \"/home/oscar/Documents/CS685/AA/\"\n",
    "names = [\"wiki_00\", \"wiki_01\", \"wiki_02\", \"wiki_03\", \"wiki_04\",\n",
    "        \"wiki_05\",\"wiki_06\", \"wiki_07\", \"wiki_08\", \"wiki_09\",\n",
    "        \"wiki_10\",\"wiki_11\", \"wiki_12\", \"wiki_13\", \"wiki_14\"]\n",
    "\n",
    "added_ids = []\n",
    "\n",
    "for name in names:\n",
    "   added_ids.append(set()) "
   ]
  },
  {
   "cell_type": "code",
   "execution_count": 3,
   "metadata": {},
   "outputs": [
    {
     "name": "stdout",
     "output_type": "stream",
     "text": [
      "wiki_01\n"
     ]
    }
   ],
   "source": [
    "target_num = 100000\n",
    "num_samples = 1000\n",
    "save_size = 5000\n",
    "added_num = 0\n",
    "sample_id = 0\n",
    "file_ctr = 0\n",
    "\n",
    "outputfile = \"ProcessedArticles/split_jsons/jsons_{}.txt\"\n",
    "\n",
    "while (added_num < target_num):\n",
    "    sample_ctr = 0\n",
    "    doc_ = random.choice(names)\n",
    "    \n",
    "    temp_list = []\n",
    "\n",
    "    with open(base_path + doc_) as f:\n",
    "        for json_obj in f:\n",
    "            temp_list.append(json_obj)\n",
    "        f.close()\n",
    "\n",
    "    jsons_file = open(outputfile.format(file_ctr), \"w\")\n",
    "\n",
    "    print(doc_)\n",
    "\n",
    "    while(sample_ctr < num_samples):\n",
    "        sample = json.loads(random.choice(temp_list))\n",
    "\n",
    "        sample_id = sample['id']\n",
    "        text = sample['text']\n",
    "\n",
    "        if sample_id in added_ids[names.index(doc_)]:\n",
    "            continue\n",
    "\n",
    "        if (len(text) < 10000):\n",
    "            continue\n",
    "\n",
    "        sample = {'id':sample_id}\n",
    "        sample_sentences = []\n",
    "        sample_sentence_embeddings = []\n",
    "\n",
    "        text_sentences = sent_tokenize(text=text)\n",
    "\n",
    "        sbert_embeddings = model.encode(sentences=text_sentences, batch_size=128, convert_to_numpy=True).tolist()\n",
    "\n",
    "\n",
    "        for sent, sent_embed in zip(text_sentences, sbert_embeddings):\n",
    "            if len(sent) > 2 and sent is not None:\n",
    "                sample_sentences.append(sent)\n",
    "                sample_sentence_embeddings.append(sent_embed)\n",
    "\n",
    "        sample['length'] = len(sample_sentences)\n",
    "        sample['sentences'] = sample_sentences\n",
    "        sample['sentence_embeddings'] = sample_sentence_embeddings\n",
    "\n",
    "        sample_json_encoded = json.dumps(sample)\n",
    "\n",
    "        added_ids[names.index(doc_)].add(sample_id)\n",
    "\n",
    "        jsons_file.write(sample_json_encoded + \"\\n\")\n",
    "\n",
    "        sample_ctr += 1\n",
    "        added_num += 1\n",
    "\n",
    "        if added_num % save_size == 0:\n",
    "            jsons_file.close()\n",
    "            file_ctr += 1\n",
    "            jsons_file = open(outputfile.format(file_ctr), \"x\")\n",
    "\n",
    "\n",
    "    print(\"num completed: %d\" % added_num)\n",
    "    jsons_file.close()\n"
   ]
  },
  {
   "cell_type": "code",
   "execution_count": null,
   "metadata": {},
   "outputs": [],
   "source": []
  }
 ],
 "metadata": {
  "interpreter": {
   "hash": "1b5f5a7bfe324c24718e5cce1d9ba3a05d53f60f42c53e2de950b018606d0d29"
  },
  "kernelspec": {
   "display_name": "Python 3.9.7 64-bit ('685': conda)",
   "name": "python3"
  },
  "language_info": {
   "codemirror_mode": {
    "name": "ipython",
    "version": 3
   },
   "file_extension": ".py",
   "mimetype": "text/x-python",
   "name": "python",
   "nbconvert_exporter": "python",
   "pygments_lexer": "ipython3",
   "version": "3.9.7"
  },
  "orig_nbformat": 4
 },
 "nbformat": 4,
 "nbformat_minor": 2
}