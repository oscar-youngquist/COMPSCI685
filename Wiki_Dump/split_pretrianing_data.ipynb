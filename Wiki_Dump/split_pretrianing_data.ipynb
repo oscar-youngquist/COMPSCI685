{
 "cells": [
  {
   "cell_type": "code",
   "execution_count": 4,
   "metadata": {},
   "outputs": [],
   "source": [
    "import numpy as np\n",
    "import pandas as pd\n",
    "import json\n",
    "from sentence_transformers import SentenceTransformer, util\n",
    "from nltk import sent_tokenize\n",
    "import random"
   ]
  },
  {
   "cell_type": "code",
   "execution_count": 9,
   "metadata": {},
   "outputs": [],
   "source": [
    "file_ctr = 0\n",
    "sample_ctr = 0\n",
    "file_path = \"ProcessedArticles/split_jsons/jsons_{}.txt\"\n",
    "\n",
    "out_file = open(file_path.format(file_ctr), 'w')\n",
    "\n",
    "temp_list = []\n",
    "\n",
    "with open(\"ProcessedArticles/jsons.txt\") as f:\n",
    "    for json_obj in f:\n",
    "        temp_list.append(json_obj)\n",
    "        \n",
    "        # if (sample_ctr < 5000):\n",
    "        #     out_file.write(json_obj)\n",
    "        #     # print(sample_ctr)\n",
    "        #     sample_ctr += 1\n",
    "        # else:\n",
    "        #     print(\"creating new file!\")\n",
    "        #     out_file.close()\n",
    "        #     file_ctr += 1\n",
    "        #     out_file = open(file_path.format(file_ctr), 'x')\n",
    "        #     sample_ctr = 0\n",
    "        \n",
    "\n",
    "\n",
    "    out_file.close()\n"
   ]
  },
  {
   "cell_type": "code",
   "execution_count": null,
   "metadata": {},
   "outputs": [],
   "source": []
  },
  {
   "cell_type": "code",
   "execution_count": null,
   "metadata": {},
   "outputs": [],
   "source": []
  }
 ],
 "metadata": {
  "interpreter": {
   "hash": "1b5f5a7bfe324c24718e5cce1d9ba3a05d53f60f42c53e2de950b018606d0d29"
  },
  "kernelspec": {
   "display_name": "Python 3.9.7 64-bit ('685': conda)",
   "name": "python3"
  },
  "language_info": {
   "codemirror_mode": {
    "name": "ipython",
    "version": 3
   },
   "file_extension": ".py",
   "mimetype": "text/x-python",
   "name": "python",
   "nbconvert_exporter": "python",
   "pygments_lexer": "ipython3",
   "version": "3.9.7"
  },
  "orig_nbformat": 4
 },
 "nbformat": 4,
 "nbformat_minor": 2
}